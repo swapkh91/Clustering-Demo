{
 "cells": [
  {
   "cell_type": "markdown",
   "metadata": {},
   "source": [
    "# KMeans Clustering Demo"
   ]
  },
  {
   "cell_type": "markdown",
   "metadata": {},
   "source": [
    "This demo includes K means clustering on data of celebrities from Wikipedia .\n",
    "\n",
    "Problem Description :\n",
    "\n",
    "We have data of famous personalities along with their description (let’s say abstract from Wikipedia). Now we want to group people as per their work-type i.e. for instance people related to sports in one group, politicians in one ,actors in another and so on.\n",
    "\n",
    "High Level Overview is :\n",
    "\n",
    "1.Load the Raw Data\n",
    "\n",
    "2.Tokenise and Remove StopWord from Data\n",
    "\n",
    "3.Compute TF-IDF of each word in the corpus.\n",
    "\n",
    "4.Fit the K means model on corpus.\n",
    "\n",
    "5.Observe the celebrities in each cluster."
   ]
  },
  {
   "cell_type": "markdown",
   "metadata": {},
   "source": [
    "        Importing all the modules and classes required "
   ]
  },
  {
   "cell_type": "code",
   "execution_count": 1,
   "metadata": {
    "collapsed": true
   },
   "outputs": [],
   "source": [
    "import pandas as pd\n",
    "import numpy as np \n",
    "import re\n",
    "import nltk\n",
    "from nltk.tokenize import RegexpTokenizer\n",
    "from nltk.stem.snowball import EnglishStemmer\n",
    "from sklearn.feature_extraction.text import TfidfVectorizer\n",
    "from sklearn.cluster import KMeans\n",
    "from sklearn.externals import joblib"
   ]
  },
  {
   "cell_type": "markdown",
   "metadata": {},
   "source": [
    "    Loading the raw data as a pandas dataframe"
   ]
  },
  {
   "cell_type": "code",
   "execution_count": 3,
   "metadata": {},
   "outputs": [],
   "source": [
    "input_data=pd.read_csv('../data/people_wiki.csv')"
   ]
  },
  {
   "cell_type": "markdown",
   "metadata": {},
   "source": [
    "    Exploring the input_data"
   ]
  },
  {
   "cell_type": "code",
   "execution_count": 5,
   "metadata": {},
   "outputs": [
    {
     "data": {
      "text/html": [
       "<div>\n",
       "<style>\n",
       "    .dataframe thead tr:only-child th {\n",
       "        text-align: right;\n",
       "    }\n",
       "\n",
       "    .dataframe thead th {\n",
       "        text-align: left;\n",
       "    }\n",
       "\n",
       "    .dataframe tbody tr th {\n",
       "        vertical-align: top;\n",
       "    }\n",
       "</style>\n",
       "<table border=\"1\" class=\"dataframe\">\n",
       "  <thead>\n",
       "    <tr style=\"text-align: right;\">\n",
       "      <th></th>\n",
       "      <th>URI</th>\n",
       "      <th>name</th>\n",
       "      <th>text</th>\n",
       "    </tr>\n",
       "  </thead>\n",
       "  <tbody>\n",
       "    <tr>\n",
       "      <th>0</th>\n",
       "      <td>&lt;http://dbpedia.org/resource/Digby_Morrell&gt;</td>\n",
       "      <td>Digby Morrell</td>\n",
       "      <td>digby morrell born 10 october 1979 is a former...</td>\n",
       "    </tr>\n",
       "    <tr>\n",
       "      <th>1</th>\n",
       "      <td>&lt;http://dbpedia.org/resource/Alfred_J._Lewy&gt;</td>\n",
       "      <td>Alfred J. Lewy</td>\n",
       "      <td>alfred j lewy aka sandy lewy graduated from un...</td>\n",
       "    </tr>\n",
       "    <tr>\n",
       "      <th>2</th>\n",
       "      <td>&lt;http://dbpedia.org/resource/Harpdog_Brown&gt;</td>\n",
       "      <td>Harpdog Brown</td>\n",
       "      <td>harpdog brown is a singer and harmonica player...</td>\n",
       "    </tr>\n",
       "    <tr>\n",
       "      <th>3</th>\n",
       "      <td>&lt;http://dbpedia.org/resource/Franz_Rottensteiner&gt;</td>\n",
       "      <td>Franz Rottensteiner</td>\n",
       "      <td>franz rottensteiner born in waidmannsfeld lowe...</td>\n",
       "    </tr>\n",
       "    <tr>\n",
       "      <th>4</th>\n",
       "      <td>&lt;http://dbpedia.org/resource/G-Enka&gt;</td>\n",
       "      <td>G-Enka</td>\n",
       "      <td>henry krvits born 30 december 1974 in tallinn ...</td>\n",
       "    </tr>\n",
       "  </tbody>\n",
       "</table>\n",
       "</div>"
      ],
      "text/plain": [
       "                                                 URI                 name  \\\n",
       "0        <http://dbpedia.org/resource/Digby_Morrell>        Digby Morrell   \n",
       "1       <http://dbpedia.org/resource/Alfred_J._Lewy>       Alfred J. Lewy   \n",
       "2        <http://dbpedia.org/resource/Harpdog_Brown>        Harpdog Brown   \n",
       "3  <http://dbpedia.org/resource/Franz_Rottensteiner>  Franz Rottensteiner   \n",
       "4               <http://dbpedia.org/resource/G-Enka>               G-Enka   \n",
       "\n",
       "                                                text  \n",
       "0  digby morrell born 10 october 1979 is a former...  \n",
       "1  alfred j lewy aka sandy lewy graduated from un...  \n",
       "2  harpdog brown is a singer and harmonica player...  \n",
       "3  franz rottensteiner born in waidmannsfeld lowe...  \n",
       "4  henry krvits born 30 december 1974 in tallinn ...  "
      ]
     },
     "execution_count": 5,
     "metadata": {},
     "output_type": "execute_result"
    }
   ],
   "source": [
    "input_data.head()"
   ]
  },
  {
   "cell_type": "markdown",
   "metadata": {
    "collapsed": true
   },
   "source": [
    "The dataframe contains 3 columns -->  URI,name and text .\n",
    "\n",
    "Let's apply K means clustering on 'text' column on basis of TF-IDF score of each word ."
   ]
  },
  {
   "cell_type": "markdown",
   "metadata": {},
   "source": [
    "The text need to be processed for counting the TF-IDF , so following steps should be followed.\n",
    "\n",
    "1.Tokenization\n",
    "\n",
    "2.StopWords Removal\n",
    "\n",
    "3.Stemming\n",
    "\n"
   ]
  },
  {
   "cell_type": "markdown",
   "metadata": {},
   "source": [
    "    Functions to Tokenize, Remove Stopwords and perform stemming on Text"
   ]
  },
  {
   "cell_type": "code",
   "execution_count": 12,
   "metadata": {
    "collapsed": true
   },
   "outputs": [],
   "source": [
    "def tokenize(p):\n",
    "    tokenizer = RegexpTokenizer('\\w+')\n",
    "    words=p.lower().split()\n",
    "    words=\" \".join(words)\n",
    "    tokenized_doc=\" \".join(tokenizer.tokenize(words))\n",
    "    return tokenized_doc\n",
    "\n",
    "def unstopped(p):\n",
    "    tokenizer = RegexpTokenizer('\\w+')\n",
    "    stop=tokenizer.tokenize(open('english.txt').read())\n",
    "    pattern = re.compile(r'\\b(' + r'|'.join(stop) + r')\\b\\s*')\n",
    "    unstopped_text = pattern.sub('', p)\n",
    "    return unstopped_text\n",
    "\n",
    "def stemming(p):\n",
    "    stemobj=EnglishStemmer()\n",
    "    stemmed_text=map(stemobj.stem,p.split())\n",
    "    stemmed_text=\" \".join(stemmed_text)\n",
    "    return stemmed_text\n",
    "\n",
    "def filterText(text):\n",
    "    return unstopped(tokenize(text))\n",
    "        "
   ]
  },
  {
   "cell_type": "markdown",
   "metadata": {},
   "source": [
    "    The 'filterText' function calls the above 3 'tokenize' , 'unstopped' and 'stemming' functions"
   ]
  },
  {
   "cell_type": "markdown",
   "metadata": {
    "collapsed": true
   },
   "source": [
    "Now we will be adding a new column 'filteredText' which will contain the text after tokenization , stopwords removal and stemming "
   ]
  },
  {
   "cell_type": "markdown",
   "metadata": {},
   "source": [
    "    Adding the 'filterText' column "
   ]
  },
  {
   "cell_type": "code",
   "execution_count": 13,
   "metadata": {},
   "outputs": [
    {
     "name": "stdout",
     "output_type": "stream",
     "text": [
      "Wall time: 2min 10s\n"
     ]
    }
   ],
   "source": [
    "%time input_data['filteredText']=input_data.text.apply(lambda x:filterText(x))"
   ]
  },
  {
   "cell_type": "markdown",
   "metadata": {},
   "source": [
    "    Displaying top entries of modified DataFrame"
   ]
  },
  {
   "cell_type": "code",
   "execution_count": 14,
   "metadata": {},
   "outputs": [
    {
     "data": {
      "text/html": [
       "<div>\n",
       "<style>\n",
       "    .dataframe thead tr:only-child th {\n",
       "        text-align: right;\n",
       "    }\n",
       "\n",
       "    .dataframe thead th {\n",
       "        text-align: left;\n",
       "    }\n",
       "\n",
       "    .dataframe tbody tr th {\n",
       "        vertical-align: top;\n",
       "    }\n",
       "</style>\n",
       "<table border=\"1\" class=\"dataframe\">\n",
       "  <thead>\n",
       "    <tr style=\"text-align: right;\">\n",
       "      <th></th>\n",
       "      <th>URI</th>\n",
       "      <th>name</th>\n",
       "      <th>text</th>\n",
       "      <th>filteredText</th>\n",
       "    </tr>\n",
       "  </thead>\n",
       "  <tbody>\n",
       "    <tr>\n",
       "      <th>0</th>\n",
       "      <td>&lt;http://dbpedia.org/resource/Digby_Morrell&gt;</td>\n",
       "      <td>Digby Morrell</td>\n",
       "      <td>digby morrell born 10 october 1979 is a former...</td>\n",
       "      <td>digby morrell born october 1979 australian rul...</td>\n",
       "    </tr>\n",
       "    <tr>\n",
       "      <th>1</th>\n",
       "      <td>&lt;http://dbpedia.org/resource/Alfred_J._Lewy&gt;</td>\n",
       "      <td>Alfred J. Lewy</td>\n",
       "      <td>alfred j lewy aka sandy lewy graduated from un...</td>\n",
       "      <td>alfred lewy aka sandy lewy graduated universit...</td>\n",
       "    </tr>\n",
       "    <tr>\n",
       "      <th>2</th>\n",
       "      <td>&lt;http://dbpedia.org/resource/Harpdog_Brown&gt;</td>\n",
       "      <td>Harpdog Brown</td>\n",
       "      <td>harpdog brown is a singer and harmonica player...</td>\n",
       "      <td>harpdog brown singer harmonica player active c...</td>\n",
       "    </tr>\n",
       "    <tr>\n",
       "      <th>3</th>\n",
       "      <td>&lt;http://dbpedia.org/resource/Franz_Rottensteiner&gt;</td>\n",
       "      <td>Franz Rottensteiner</td>\n",
       "      <td>franz rottensteiner born in waidmannsfeld lowe...</td>\n",
       "      <td>franz rottensteiner born waidmannsfeld lower a...</td>\n",
       "    </tr>\n",
       "    <tr>\n",
       "      <th>4</th>\n",
       "      <td>&lt;http://dbpedia.org/resource/G-Enka&gt;</td>\n",
       "      <td>G-Enka</td>\n",
       "      <td>henry krvits born 30 december 1974 in tallinn ...</td>\n",
       "      <td>henry krvits born 30 december 1974 tallinn bet...</td>\n",
       "    </tr>\n",
       "  </tbody>\n",
       "</table>\n",
       "</div>"
      ],
      "text/plain": [
       "                                                 URI                 name  \\\n",
       "0        <http://dbpedia.org/resource/Digby_Morrell>        Digby Morrell   \n",
       "1       <http://dbpedia.org/resource/Alfred_J._Lewy>       Alfred J. Lewy   \n",
       "2        <http://dbpedia.org/resource/Harpdog_Brown>        Harpdog Brown   \n",
       "3  <http://dbpedia.org/resource/Franz_Rottensteiner>  Franz Rottensteiner   \n",
       "4               <http://dbpedia.org/resource/G-Enka>               G-Enka   \n",
       "\n",
       "                                                text  \\\n",
       "0  digby morrell born 10 october 1979 is a former...   \n",
       "1  alfred j lewy aka sandy lewy graduated from un...   \n",
       "2  harpdog brown is a singer and harmonica player...   \n",
       "3  franz rottensteiner born in waidmannsfeld lowe...   \n",
       "4  henry krvits born 30 december 1974 in tallinn ...   \n",
       "\n",
       "                                        filteredText  \n",
       "0  digby morrell born october 1979 australian rul...  \n",
       "1  alfred lewy aka sandy lewy graduated universit...  \n",
       "2  harpdog brown singer harmonica player active c...  \n",
       "3  franz rottensteiner born waidmannsfeld lower a...  \n",
       "4  henry krvits born 30 december 1974 tallinn bet...  "
      ]
     },
     "execution_count": 14,
     "metadata": {},
     "output_type": "execute_result"
    }
   ],
   "source": [
    "input_data.head()"
   ]
  },
  {
   "cell_type": "markdown",
   "metadata": {},
   "source": [
    "The next step is to create a corpus which contains text of all documents and then computing TF-IDF of all words \n"
   ]
  },
  {
   "cell_type": "markdown",
   "metadata": {},
   "source": [
    "    Creating the corpus"
   ]
  },
  {
   "cell_type": "code",
   "execution_count": 15,
   "metadata": {},
   "outputs": [],
   "source": [
    "corpus=input_data.filteredText\n",
    "corpus=np.array(corpus)"
   ]
  },
  {
   "cell_type": "code",
   "execution_count": 16,
   "metadata": {},
   "outputs": [
    {
     "data": {
      "text/plain": [
       "59071"
      ]
     },
     "execution_count": 16,
     "metadata": {},
     "output_type": "execute_result"
    }
   ],
   "source": [
    "len(corpus)"
   ]
  },
  {
   "cell_type": "markdown",
   "metadata": {},
   "source": [
    "    Creating an instance of TfIdfVectorizer()"
   ]
  },
  {
   "cell_type": "code",
   "execution_count": 17,
   "metadata": {
    "collapsed": true
   },
   "outputs": [],
   "source": [
    "tfidf_vectorizer = TfidfVectorizer()"
   ]
  },
  {
   "cell_type": "markdown",
   "metadata": {},
   "source": [
    "    Creating TFIDF matrix which contains TF-IDF of each word "
   ]
  },
  {
   "cell_type": "code",
   "execution_count": 18,
   "metadata": {},
   "outputs": [
    {
     "name": "stdout",
     "output_type": "stream",
     "text": [
      "Wall time: 16.9 s\n"
     ]
    }
   ],
   "source": [
    "%time tfidf_matrix = tfidf_vectorizer.fit_transform(corpus)"
   ]
  },
  {
   "cell_type": "code",
   "execution_count": 19,
   "metadata": {},
   "outputs": [
    {
     "data": {
      "text/plain": [
       "(59071, 547848)"
      ]
     },
     "execution_count": 19,
     "metadata": {},
     "output_type": "execute_result"
    }
   ],
   "source": [
    "tfidf_matrix.shape"
   ]
  },
  {
   "cell_type": "code",
   "execution_count": 20,
   "metadata": {},
   "outputs": [
    {
     "name": "stderr",
     "output_type": "stream",
     "text": [
      "IOPub data rate exceeded.\n",
      "The notebook server will temporarily stop sending output\n",
      "to the client in order to avoid crashing it.\n",
      "To change this limit, set the config variable\n",
      "`--NotebookApp.iopub_data_rate_limit`.\n"
     ]
    }
   ],
   "source": [
    "print(tfidf_vectorizer.get_feature_names())"
   ]
  },
  {
   "cell_type": "markdown",
   "metadata": {},
   "source": [
    "Now KMeans will be fitted to the data"
   ]
  },
  {
   "cell_type": "markdown",
   "metadata": {},
   "source": [
    "    Specifing No. of Clusters"
   ]
  },
  {
   "cell_type": "code",
   "execution_count": 21,
   "metadata": {},
   "outputs": [],
   "source": [
    "num_clusters = 5"
   ]
  },
  {
   "cell_type": "markdown",
   "metadata": {},
   "source": [
    "    Fitting KMeans Clustering to tfidf_matrix"
   ]
  },
  {
   "cell_type": "code",
   "execution_count": 22,
   "metadata": {},
   "outputs": [
    {
     "name": "stdout",
     "output_type": "stream",
     "text": [
      "Wall time: 38min 8s\n"
     ]
    },
    {
     "data": {
      "text/plain": [
       "KMeans(algorithm='auto', copy_x=True, init='k-means++', max_iter=300,\n",
       "    n_clusters=5, n_init=10, n_jobs=1, precompute_distances='auto',\n",
       "    random_state=1, tol=0.0001, verbose=0)"
      ]
     },
     "execution_count": 22,
     "metadata": {},
     "output_type": "execute_result"
    }
   ],
   "source": [
    "km = KMeans(n_clusters=num_clusters,random_state=1)\n",
    "\n",
    "%time km.fit(tfidf_matrix)\n"
   ]
  },
  {
   "cell_type": "markdown",
   "metadata": {},
   "source": [
    "    Model can be saved and loaded for future use ."
   ]
  },
  {
   "cell_type": "code",
   "execution_count": 23,
   "metadata": {},
   "outputs": [],
   "source": [
    "joblib.dump(km,  'people_cluster.pkl')\n",
    "km = joblib.load('people_cluster.pkl')"
   ]
  },
  {
   "cell_type": "markdown",
   "metadata": {},
   "source": [
    "    Getting Clusters"
   ]
  },
  {
   "cell_type": "code",
   "execution_count": 24,
   "metadata": {},
   "outputs": [],
   "source": [
    "clusters = km.labels_.tolist()"
   ]
  },
  {
   "cell_type": "markdown",
   "metadata": {},
   "source": [
    "    Preparing a Dictionary which contains names of people , their Description and Assigned Cluster"
   ]
  },
  {
   "cell_type": "code",
   "execution_count": 25,
   "metadata": {},
   "outputs": [],
   "source": [
    "people = { 'name': np.array(input_data.name), 'text': np.array(input_data.text), 'cluster': clusters}"
   ]
  },
  {
   "cell_type": "markdown",
   "metadata": {},
   "source": [
    "    Creating a data frame out of dictionary and selecting 'name' and 'cluster' of each person"
   ]
  },
  {
   "cell_type": "code",
   "execution_count": 26,
   "metadata": {
    "collapsed": true
   },
   "outputs": [],
   "source": [
    "frame = pd.DataFrame(people, index = [clusters] , columns = ['name', 'cluster'])"
   ]
  },
  {
   "cell_type": "markdown",
   "metadata": {},
   "source": [
    "    Viewing Number of celebrities per Cluster"
   ]
  },
  {
   "cell_type": "code",
   "execution_count": 27,
   "metadata": {},
   "outputs": [
    {
     "data": {
      "text/plain": [
       "2    24872\n",
       "0    11295\n",
       "4     9280\n",
       "3     8603\n",
       "1     5021\n",
       "Name: cluster, dtype: int64"
      ]
     },
     "execution_count": 27,
     "metadata": {},
     "output_type": "execute_result"
    }
   ],
   "source": [
    "frame['cluster'].value_counts()"
   ]
  },
  {
   "cell_type": "markdown",
   "metadata": {},
   "source": [
    "Within Set Sum of Squared Errors "
   ]
  },
  {
   "cell_type": "code",
   "execution_count": 28,
   "metadata": {},
   "outputs": [
    {
     "data": {
      "text/plain": [
       "57601.471952663946"
      ]
     },
     "execution_count": 28,
     "metadata": {},
     "output_type": "execute_result"
    }
   ],
   "source": [
    "km.inertia_"
   ]
  },
  {
   "cell_type": "markdown",
   "metadata": {},
   "source": [
    "    Viweing 50 celeb names per cluster"
   ]
  },
  {
   "cell_type": "code",
   "execution_count": 29,
   "metadata": {},
   "outputs": [
    {
     "name": "stdout",
     "output_type": "stream",
     "text": [
      "Top terms per cluster:\n",
      "\n",
      "Cluster 1 names: Digby Morrell, Paddy Dunne (Gaelic footballer), Ceiron Thomas, Adel Sellimi, Vic Stasiuk, Leon Hapgood, Dom Flora, Bob Reece, Bob Adams (American football), Marc Logan, Corey Woolfolk, Alan Roper, Vladimir Yurchenko, Doug McIntosh, Shaka Hislop, Steve Castle, Dean Greig, James Stewart (American football), Fredrik Jacobson, Juan Pablo Montoya, Anna Kournikova, Al Hairston, Ron Shuman, Bill Young (Australian rules footballer), Se%C3%A1n %C3%93g %C3%93 hAilp%C3%ADn, Mike Trebilcock, Daniel Falzon, Cameron Sharp, Gary Fila, Roger James (footballer), Aled de Malmanche, Ian Mellor, Adrian Brooks, Ed Rubbert, Arturo J. Marcano Guevara, Cam Cairncross, John Taylor (cricketer, born 1937), Doug Heveron, Mike P%C3%A9rez (baseball), Mick O'Brien (footballer, born 1979), William Kipsang, David Pastr%C5%88%C3%A1k, Andreas Alm, Ronnie Wallwork, Henry Honiball, Roland De Wolfe, Keith Jennings (basketball), Alexi Lalas, Brett Hull, Jeoff Long,\n",
      "\n",
      "\n",
      "\n",
      "Cluster 2 names: Trevor Ferguson, Joerg Steineck, Timothy Grucza, Will Tiao, Geoffrey Bayldon, Robin MacPherson, Zvonimir Juri%C4%87, Katja Herbers, Eva Habermann, David Shaughnessy, Christine Langan, Erik Marcisak, Lady Clover Honey, Antonio Meneses Saillant, Usama Alshaibi, Tony Mordente, Rosalind Harris, Kat Coiro, Judith Jacob, Tony Lundon, Meddy Ford, David Eldridge (dramatist), Stephen Evans (actor), Marc Butan, Charles Lafortune, Ray MacDonnell, Mark Poepping, Judith McConnell, Mammootty, Paul Willson, John Glenn (screenwriter), Charlie Corwin, Elaine Princi, Mitzi McCall, Neil Landau, Martin Allen (writer), Takayuki Hattori, Vikram (actor), Efra%C3%ADn L%C3%B3pez Neris, Peter Flannery, Garry Schyman, Belinda Wollaston, Gene Wilder, Chris Northrop, Krishna (actor), Nicole Kidman, Klea Blackhurst, Rebecca Northan, Cogie Domingo, Amy Matthews,\n",
      "\n",
      "\n",
      "\n",
      "Cluster 3 names: Alfred J. Lewy, Franz Rottensteiner, Sam Henderson, Cathy Caruth, Sophie Crumb, Jenn Ashworth, Jonathan Hoefler, Anthony Gueterbock, 18th Baron Berkeley, Andrew Pinsent, John Angus Campbell, Tom Jennings, Anthony Caruana, Ian Mitchell (author), Ted Hill (mathematician), Douglas Davies, Freimut B%C3%B6rngen, Aharon Solomons, Steven Weil, Michel Che, Jaafar Aksikas, Will Tuttle, Vanessa Ament, Professor Lyrical (rapper), Michelle Ye, Mary Goldring, Yohannes Yual, Christopher Sorrentino, Alexis Bhagat, Guillermo Roux, Elizabeth Gunn (author), Bo Hampton, Quintin E. Primo III, Ulf-Dietrich Reips, Marcel J. Melan%C3%A7on, Mike Powell (journalist), John Warner (writer), Avi Muchnick, Evelin Lindner, Robert S. Gold, John-Paul Himka, Elisha Qimron, Robert Grant Irving, Sam Leach (artist), Patricia Crowther (caver), Maha el-Samnah, Khalid Khannouchi, Ichikawa Ennosuke III, Shirley Erena Murray, Casey McKee, Albert Apuzzi,\n",
      "\n",
      "\n",
      "\n",
      "Cluster 4 names: Harpdog Brown, G-Enka, Aaron LaCrate, Grant Nelson, Alexandros Mouzas, Chris Batstone, Faith Soloway, Emily Osment, Th%C3%BCring Br%C3%A4m, Rob Sheffield, Vincent Fang (lyricist), Bob Havens, Susan Christie, Milva, Nobuo Uematsu, Judi Silvano, Agnes Baltsa, Martin Iveson, Armen Ra, Cajjmere Wray, Angus Clark, Kenneth James Gibson, Oscar Milani, John Edmondson (musician), Viktoriya Yermolyeva, Ren%C3%A9 Froger, Seiko Lee, The Zombie Kids, Barbara Kolb, Kevon Glickman, Terrell Stone, Jeremy Beck, Bernie Hayes, Scott Dibble, Joe B. Mauldin, John Acquaviva, Owen Temple, Glen Pine, David Vanacore, Keyshia Cole, Ronald Caltabiano, Bruce Adolphe, Sidney Samson, Alice Doria-Gamilla, Gioconda Vessichelli, Massimo Milano, Harvey Pittel, Nagwa Fouad, Leslie Craven, Carrie Underwood,\n",
      "\n",
      "\n",
      "\n",
      "Cluster 5 names: David Chernushenko, Mindaugas Murza, Gary Emineth, Sylvie Roy, Robert N. Chatigny, Misa Telefoni Retzlaff, Susan Westerberg Prager, David Vernon Williams, William J. Ely, John Reynolds (Canadian politician), Anerood Jugnauth, Abdel Fattah el-Sisi, Frank Millar Jr, Steven Point, L%C3%A1zaro C%C3%A1rdenas Batel, Carlos Bea, Marilyn Hall Patel, Yolande Thibeault, Frits Bolkestein, James Cotton (Manitoba politician), Mario Michel, Pavlo Khazan, Gulzar Banu, David M. Becker, Christy Burke, Randal Quarles, Dave Chomiak, Atu Emberson Bain, Leonardo %C3%81lvarez Romo, Paul McGrath (politician), Uffe Elb%C3%A6k, Gary R. Roberts, Daniel Janssen, Ray Sansom, Qayyum Inamdar, Camilo Nogueira Rom%C3%A1n, Gijs de Vries, Peter Maurer, Peter Fritz, Leura Canary, Kenneth Binks, John Ladenburg, Rajiva Wijesinha, Ruben Zackhras, Isabel Allende (politician), Edward Leigh, Taylor Townsend (politician), Joseph Nation, Lene Espersen, John Weston (politician),\n",
      "\n",
      "\n",
      "\n"
     ]
    },
    {
     "name": "stderr",
     "output_type": "stream",
     "text": [
      "C:\\ProgramData\\Anaconda3\\lib\\site-packages\\ipykernel_launcher.py:10: DeprecationWarning: \n",
      ".ix is deprecated. Please use\n",
      ".loc for label based indexing or\n",
      ".iloc for positional indexing\n",
      "\n",
      "See the documentation here:\n",
      "http://pandas.pydata.org/pandas-docs/stable/indexing.html#deprecate_ix\n",
      "  # Remove the CWD from sys.path while we load stuff.\n"
     ]
    }
   ],
   "source": [
    "from __future__ import print_function\n",
    "\n",
    "print(\"Top terms per cluster:\")\n",
    "print()\n",
    "#sort cluster centers by proximity to centroid\n",
    "order_centroids = km.cluster_centers_.argsort()[:, ::-1] \n",
    "\n",
    "for i in range(num_clusters):\n",
    "    print(\"Cluster %d names:\" % (i+1), end='')\n",
    "    for title in frame.ix[i]['name'].values.tolist()[0:50]:\n",
    "        print(' %s,' % title, end='')\n",
    "    print() \n",
    "    print() \n",
    "    \n",
    "    print() \n",
    "    print() "
   ]
  },
  {
   "cell_type": "markdown",
   "metadata": {},
   "source": [
    "There are definately some more optimization \n",
    "\n",
    "1. How can we reduce the features ?\n",
    "\n",
    "2. How to select the right number of clusters ?"
   ]
  },
  {
   "cell_type": "markdown",
   "metadata": {},
   "source": [
    "Answer to Question 1"
   ]
  },
  {
   "cell_type": "markdown",
   "metadata": {},
   "source": [
    "    Well let's do something with TF-IDF Vectorizer \n",
    "    \n",
    "    We will add 2 more parameters to TF-IDF Vectorizer : min_df and max_df"
   ]
  },
  {
   "cell_type": "markdown",
   "metadata": {},
   "source": [
    "max_df: this is the maximum frequency within the documents a given feature can have to be used in the tfi-idf matrix. If the term is in greater than 90% of the documents it probably cares little meanining (in the context of person's desciption)\n",
    "\n",
    "min_idf: this could be an integer (e.g. 5) and the term would have to be in at least 5 of the documents to be considered."
   ]
  },
  {
   "cell_type": "code",
   "execution_count": 33,
   "metadata": {
    "collapsed": true
   },
   "outputs": [],
   "source": [
    "tfidf_vectorizer = TfidfVectorizer(min_df=0.1,max_df=0.9)"
   ]
  },
  {
   "cell_type": "code",
   "execution_count": 34,
   "metadata": {},
   "outputs": [
    {
     "name": "stdout",
     "output_type": "stream",
     "text": [
      "Wall time: 18 s\n"
     ]
    }
   ],
   "source": [
    "%time tfidf_matrix = tfidf_vectorizer.fit_transform(corpus)"
   ]
  },
  {
   "cell_type": "code",
   "execution_count": 35,
   "metadata": {},
   "outputs": [
    {
     "data": {
      "text/plain": [
       "(59071, 139)"
      ]
     },
     "execution_count": 35,
     "metadata": {},
     "output_type": "execute_result"
    }
   ],
   "source": [
    "tfidf_matrix.shape"
   ]
  },
  {
   "cell_type": "code",
   "execution_count": 36,
   "metadata": {},
   "outputs": [
    {
     "name": "stdout",
     "output_type": "stream",
     "text": [
      "Wall time: 4min 13s\n"
     ]
    },
    {
     "data": {
      "text/plain": [
       "KMeans(algorithm='auto', copy_x=True, init='k-means++', max_iter=300,\n",
       "    n_clusters=5, n_init=10, n_jobs=1, precompute_distances='auto',\n",
       "    random_state=1, tol=0.0001, verbose=0)"
      ]
     },
     "execution_count": 36,
     "metadata": {},
     "output_type": "execute_result"
    }
   ],
   "source": [
    "n_clusters=5\n",
    "km = KMeans(n_clusters=num_clusters,random_state=1)\n",
    "%time km.fit(tfidf_matrix)"
   ]
  },
  {
   "cell_type": "code",
   "execution_count": 37,
   "metadata": {},
   "outputs": [
    {
     "data": {
      "text/plain": [
       "45992.6990286207"
      ]
     },
     "execution_count": 37,
     "metadata": {},
     "output_type": "execute_result"
    }
   ],
   "source": [
    "km.inertia_  #\"Within Set Sum of Squared Errors\""
   ]
  },
  {
   "cell_type": "markdown",
   "metadata": {},
   "source": [
    "    Let's Apply Singular Vector Decomposition"
   ]
  },
  {
   "cell_type": "code",
   "execution_count": 38,
   "metadata": {},
   "outputs": [
    {
     "name": "stdout",
     "output_type": "stream",
     "text": [
      "Wall time: 1.16 s\n"
     ]
    },
    {
     "data": {
      "text/plain": [
       "(59071, 10)"
      ]
     },
     "execution_count": 38,
     "metadata": {},
     "output_type": "execute_result"
    }
   ],
   "source": [
    "from sklearn.decomposition import TruncatedSVD\n",
    "svd = TruncatedSVD(n_components=10, n_iter=7, random_state=42)\n",
    "%time X = svd.fit_transform(tfidf_matrix)\n",
    "X.shape"
   ]
  },
  {
   "cell_type": "code",
   "execution_count": 39,
   "metadata": {},
   "outputs": [
    {
     "name": "stdout",
     "output_type": "stream",
     "text": [
      "Wall time: 4.58 s\n"
     ]
    },
    {
     "data": {
      "text/plain": [
       "KMeans(algorithm='auto', copy_x=True, init='k-means++', max_iter=300,\n",
       "    n_clusters=5, n_init=10, n_jobs=1, precompute_distances='auto',\n",
       "    random_state=1, tol=0.0001, verbose=0)"
      ]
     },
     "execution_count": 39,
     "metadata": {},
     "output_type": "execute_result"
    }
   ],
   "source": [
    "n_clusters=5\n",
    "km = KMeans(n_clusters=num_clusters,random_state=1)\n",
    "%time km.fit(X)"
   ]
  },
  {
   "cell_type": "code",
   "execution_count": 40,
   "metadata": {},
   "outputs": [
    {
     "data": {
      "text/plain": [
       "6628.4912804280684"
      ]
     },
     "execution_count": 40,
     "metadata": {},
     "output_type": "execute_result"
    }
   ],
   "source": [
    "km.inertia_   #\"Within Set Sum of Squared Errors\""
   ]
  },
  {
   "cell_type": "markdown",
   "metadata": {},
   "source": [
    "Answer to Question 2"
   ]
  },
  {
   "cell_type": "markdown",
   "metadata": {
    "collapsed": true
   },
   "source": [
    "How to decide upon the right number of clusters ?"
   ]
  },
  {
   "cell_type": "markdown",
   "metadata": {},
   "source": [
    "The ELBOW Method"
   ]
  },
  {
   "cell_type": "code",
   "execution_count": 41,
   "metadata": {
    "collapsed": true
   },
   "outputs": [],
   "source": [
    "#Elbow Method\n",
    "res=[]\n",
    "for k in range(2,30):\n",
    "    kmeans = KMeans(n_clusters=k,random_state=1)\n",
    "    model=kmeans.fit(X)\n",
    "    wssse=kmeans.inertia_\n",
    "    KW=(k,wssse)\n",
    "    KW\n",
    "    res.append(KW)"
   ]
  },
  {
   "cell_type": "code",
   "execution_count": 42,
   "metadata": {},
   "outputs": [
    {
     "data": {
      "text/plain": [
       "[(2, 10152.733108413147),\n",
       " (3, 8654.5152453689607),\n",
       " (4, 7553.022200536494),\n",
       " (5, 6628.4912804280684),\n",
       " (6, 5791.0278760060146),\n",
       " (7, 5252.6188845604674),\n",
       " (8, 4818.6173331750997),\n",
       " (9, 4483.5410509565718),\n",
       " (10, 4217.456718707559),\n",
       " (11, 4032.1803764428923),\n",
       " (12, 3889.4460974024923),\n",
       " (13, 3755.0905596785087),\n",
       " (14, 3647.6389218101931),\n",
       " (15, 3559.3646545020301),\n",
       " (16, 3471.6410667921414),\n",
       " (17, 3395.9927496972036),\n",
       " (18, 3328.9309049910976),\n",
       " (19, 3275.2381104486221),\n",
       " (20, 3228.1918160742871),\n",
       " (21, 3168.7596106754431),\n",
       " (22, 3126.0230601574499),\n",
       " (23, 3085.7035677656058),\n",
       " (24, 3041.7362257505506),\n",
       " (25, 3006.7320780963),\n",
       " (26, 2965.3276733816033),\n",
       " (27, 2925.7495591395896),\n",
       " (28, 2889.7005987364219),\n",
       " (29, 2865.7650717189767)]"
      ]
     },
     "execution_count": 42,
     "metadata": {},
     "output_type": "execute_result"
    }
   ],
   "source": [
    "res"
   ]
  },
  {
   "cell_type": "code",
   "execution_count": 43,
   "metadata": {},
   "outputs": [
    {
     "data": {
      "image/png": "[encoded data removed]",
      "text/plain": [
       "<matplotlib.figure.Figure at 0x1cfb66d8>"
      ]
     },
     "metadata": {},
     "output_type": "display_data"
    }
   ],
   "source": [
    "import matplotlib.pyplot as plt\n",
    "plt.plot(*zip(*res))\n",
    "plt.show()"
   ]
  },
  {
   "cell_type": "markdown",
   "metadata": {},
   "source": [
    "There are many more ways to deal with this problem of deciding upon right number of clusters.\n",
    "But here only Elbow Method demonstrated."
   ]
  },
  {
   "cell_type": "code",
   "execution_count": 53,
   "metadata": {},
   "outputs": [
    {
     "name": "stdout",
     "output_type": "stream",
     "text": [
      "Wall time: 6min 38s\n"
     ]
    },
    {
     "data": {
      "text/plain": [
       "KMeans(algorithm='auto', copy_x=True, init='k-means++', max_iter=300,\n",
       "    n_clusters=9, n_init=10, n_jobs=1, precompute_distances='auto',\n",
       "    random_state=1, tol=0.0001, verbose=0)"
      ]
     },
     "execution_count": 53,
     "metadata": {},
     "output_type": "execute_result"
    }
   ],
   "source": [
    "n_clusters=9\n",
    "km = KMeans(n_clusters=n_clusters,random_state=1)\n",
    "%time km.fit(tfidf_matrix)"
   ]
  },
  {
   "cell_type": "code",
   "execution_count": 54,
   "metadata": {
    "collapsed": true
   },
   "outputs": [],
   "source": [
    "joblib.dump(km,  'people_cluster1.pkl')\n",
    "km = joblib.load('people_cluster1.pkl')"
   ]
  },
  {
   "cell_type": "code",
   "execution_count": 55,
   "metadata": {
    "collapsed": true
   },
   "outputs": [],
   "source": [
    "clusters = km.labels_.tolist()"
   ]
  },
  {
   "cell_type": "code",
   "execution_count": 56,
   "metadata": {
    "collapsed": true
   },
   "outputs": [],
   "source": [
    "people = { 'name': np.array(input_data.name), 'text': np.array(input_data.text), 'cluster': clusters}"
   ]
  },
  {
   "cell_type": "code",
   "execution_count": 57,
   "metadata": {
    "collapsed": true
   },
   "outputs": [],
   "source": [
    "frame = pd.DataFrame(people, index = [clusters] , columns = ['name', 'cluster'])"
   ]
  },
  {
   "cell_type": "code",
   "execution_count": 58,
   "metadata": {},
   "outputs": [
    {
     "data": {
      "text/plain": [
       "2    13339\n",
       "0    10448\n",
       "1     6502\n",
       "3     6414\n",
       "6     5697\n",
       "4     5015\n",
       "7     4716\n",
       "8     4100\n",
       "5     2840\n",
       "Name: cluster, dtype: int64"
      ]
     },
     "execution_count": 58,
     "metadata": {},
     "output_type": "execute_result"
    }
   ],
   "source": [
    "frame['cluster'].value_counts()"
   ]
  },
  {
   "cell_type": "code",
   "execution_count": 59,
   "metadata": {},
   "outputs": [
    {
     "name": "stdout",
     "output_type": "stream",
     "text": [
      "Top terms per cluster:\n",
      "\n",
      "Cluster 1 names: David Chernushenko, Mindaugas Murza, Steven Weil, Gary Emineth, Bob Adams (American football), Sylvie Roy, Robert N. Chatigny, Susan Westerberg Prager, William J. Ely, John Reynolds (Canadian politician), Anerood Jugnauth, Abdel Fattah el-Sisi, Steven Point, L%C3%A1zaro C%C3%A1rdenas Batel, Carlos Bea, Marilyn Hall Patel, Yolande Thibeault, Rajiv Shah, Frits Bolkestein, Mario Michel, Pavlo Khazan, Gulzar Banu, David M. Becker, Renny Pritikin, Christy Burke, George Brent Mickum IV, Dave Chomiak, Atu Emberson Bain, Robert Watt, Leonardo %C3%81lvarez Romo, Paul McGrath (politician), Uffe Elb%C3%A6k, James Danko, Daniel Janssen, Gary Nolan (radio host), Ray Sansom, Qayyum Inamdar, Russell Reid, Thomas B. Hayward, Camilo Nogueira Rom%C3%A1n, Gijs de Vries, Vytautas %C5%A0ustauskas, Peter Maurer, Leura Canary, Kenneth Binks, John Ladenburg, Rajiva Wijesinha, Ruben Zackhras, Isabel Allende (politician), Edward Leigh,\n",
      "\n",
      "\n",
      "\n",
      "Cluster 2 names: Alfred J. Lewy, Cathy Caruth, Andrew Pinsent, John Angus Campbell, Ted Hill (mathematician), Douglas Davies, Michel Che, Jaafar Aksikas, Vanessa Ament, David Vernon Williams, Ulf-Dietrich Reips, Evelin Lindner, Robert S. Gold, John-Paul Himka, Robert Grant Irving, Sam Leach (artist), Victor Clube, Moana Jackson, Hossein Modarressi, Conrad Phillip Kottak, Leslie R. Landrum, Jimmy Dorrell, Ant%C3%B3nio Castanheira Neves, Ventimiglia Giovanni, Antonello Bonci, Gerard Toal, Arturo J. Marcano Guevara, Axel Ockenfels, James P. Liautaud, Stephen J Smith, Andr%C3%A9 Hurst, Jerry Adams, Indu Shahani, Bruce Webster, Gary R. Roberts, Henkjan Honing, Xiao-Gang Wen, Harvey Pittel, Peter Naur, Nivio Ziviani, Abdul Salam Azimi, K. Vardachari Thiruvengadam, Anna Parzymies, Fakhar Abbas, Andrew Bernstein, Lewis Leavitt, Mary Ann Lila, John E. Thomas, Peter Fritz, Rachel Barr,\n",
      "\n",
      "\n",
      "\n",
      "Cluster 3 names: Harpdog Brown, G-Enka, Grant Nelson, Sophie Crumb, Jonathan Hoefler, Anthony Gueterbock, 18th Baron Berkeley, Chris Batstone, Tom Jennings, Anthony Caruana, Freimut B%C3%B6rngen, Michelle Ye, Yohannes Yual, Alexis Bhagat, Guillermo Roux, Elizabeth Gunn (author), Bo Hampton, Milva, Quintin E. Primo III, Mike Powell (journalist), Doug McIntosh, Avi Muchnick, Agnes Baltsa, Patricia Crowther (caver), Katja Herbers, Maha el-Samnah, Ichikawa Ennosuke III, Frank Millar Jr, Angus Clark, Casey McKee, Ron Shuman, Gregory Charles Rivers, Angela Conner, Qiu Zhijie, Ren%C3%A9 Froger, Jane Shepherdson, Seiko Lee, Yevgeniy Chazov, James Cotton (Manitoba politician), Colleen McGill, Michael Petrelis, Doug Heveron, Salvatore Russo, Masahiko Kimura (bonsai artist), Laura Manuelidis, Bernie Hayes, Scott Dibble, Joe B. Mauldin, William Kipsang, Marc Fleury, Otto Happel,\n",
      "\n",
      "\n",
      "\n",
      "Cluster 4 names: Digby Morrell, Ceiron Thomas, Vic Stasiuk, Leon Hapgood, Bob Reece, Marc Logan, Corey Woolfolk, Alan Roper, Steve Castle, Dean Greig, James Stewart (American football), Bill Young (Australian rules footballer), Se%C3%A1n %C3%93g %C3%93 hAilp%C3%ADn, Mike Trebilcock, Gary Fila, Roger James (footballer), Aled de Malmanche, Ian Mellor, Adrian Brooks, Ed Rubbert, Cam Cairncross, John Taylor (cricketer, born 1937), Mike P%C3%A9rez (baseball), Mick O'Brien (footballer, born 1979), David Pastr%C5%88%C3%A1k, Andreas Alm, Keith Jennings (basketball), Alexi Lalas, Brett Hull, Jeoff Long, Jack McMahan, Ken Monkou, Giovanni Carrara, Albert Hall (baseball), Gunnar Svensson, Jeff Juden, Carlyle Holiday, Rich Bordi, Shane Valenti, Liam Chilvers, Ben Stratton, Chris Curran (footballer, born September 1971), John McGreal, Gerry Ryan (footballer), Tana Umaga, Anthony Whelan, St%C3%A9phane Mottin, Don Cahoon, Ulrich Schulze, Harm van Veldhoven,\n",
      "\n",
      "\n",
      "\n",
      "Cluster 5 names: Aaron LaCrate, Alexandros Mouzas, Th%C3%BCring Br%C3%A4m, Rob Sheffield, Will Tuttle, Vincent Fang (lyricist), Nobuo Uematsu, Judi Silvano, Martin Iveson, Armen Ra, Shirley Erena Murray, Cajjmere Wray, Kenneth James Gibson, Oscar Milani, John Edmondson (musician), Viktoriya Yermolyeva, The Zombie Kids, Barbara Kolb, Kevon Glickman, Terrell Stone, Jeremy Beck, John Acquaviva, David Vanacore, Ronald Caltabiano, Bruce Adolphe, Sidney Samson, Gioconda Vessichelli, Massimo Milano, Leslie Craven, Carrie Underwood, Gregg Karukas, Barbara Tucker, Jeremy Dale Roberts, Portable Bodycode, Christian Picciolini, John Boswell Maver, Tania Libertad, Melissa Auf der Maur, Oliver Sean, Alan K. Stout, Jamie Shields (musician), Anthea Benton, Jaroslav T%C5%AFma, Porta (rapper), Filippo Gaetani, Alan Pierson, Gianluca Attanasio, Lidija Horvat-Dunjko, Garry Schyman, Natalia Kills,\n",
      "\n",
      "\n",
      "\n",
      "Cluster 6 names: Joerg Steineck, Timothy Grucza, Will Tiao, Robin MacPherson, Zvonimir Juri%C4%87, Christine Langan, Erik Marcisak, Antonio Meneses Saillant, Usama Alshaibi, Rosalind Harris, Kat Coiro, Tony Lundon, Meddy Ford, Lisa Rose Apramian, Marc Butan, Mark Poepping, Mammootty, John Glenn (screenwriter), Holter Graham, Neil Landau, Martin Allen (writer), Vikram (actor), Gene Wilder, Myra (singer), Chris Northrop, Krishna (actor), Nicole Kidman, Corbin Billings, Dan Macarthur, The Taylan Brothers, Mike Pandey, Paul Giambarba, Grant Gillespie (writer), Beth Anderson (singer), Maurice Seezer, Bruce David Klein, Naomi Watts, David Rosenbloom, Mark Boswell (film director), Attila Pacsay, Sam Atwell, Anton Hecht, Ingo Petzke, Michael Rowe (director), Dragon Lee, Jeff Klinger, Eugene Domingo, Alison Sealy-Smith, Crystal McLaurin-Coney, Eric Gray,\n",
      "\n",
      "\n",
      "\n",
      "Cluster 7 names: Paddy Dunne (Gaelic footballer), Adel Sellimi, Dom Flora, Aharon Solomons, Vladimir Yurchenko, Shaka Hislop, Fredrik Jacobson, Khalid Khannouchi, Juan Pablo Montoya, Anna Kournikova, Al Hairston, Albert Apuzzi, Daniel Falzon, Cameron Sharp, Emmanuel Pierre-Antoine, Henry Honiball, Logan Aldridge, Roland De Wolfe, Marcus Vick, Marat Dzhumaev, Chuck Hartlieb, Hasna Benhassi, Yekaterina Lobysheva, Carlos Almeida (swimmer), Lorna Boothe, Mart%C3%ADn Emilio Rodr%C3%ADguez, Hamoud Al-Dalhami, Herbert Wimmer, David Witt, William Chetcuti, Christophe Lamaison, Hunegnaw Mesfin, Hanna Gabriel, Aslie Pitter, Steven Ferguson, Miguel %C3%81ngel Prieto, Derartu Tulu, Cathrine Grage, Kevin McBride, Khalid AlSaleh, Ching-Ming Wang, B. Palaniappan, Woo Hee-young, Randy Brown (American football), Craig Gillies, Joe Connolly (hurler), David Erb, Julio C%C3%A9sar Ch%C3%A1vez, Charles Mooney, Ed Montague (umpire),\n",
      "\n",
      "\n",
      "\n",
      "Cluster 8 names: Franz Rottensteiner, Sam Henderson, Trevor Ferguson, Jenn Ashworth, Ian Mitchell (author), Professor Lyrical (rapper), Misa Telefoni Retzlaff, Christopher Sorrentino, Marcel J. Melan%C3%A7on, John Warner (writer), Elisha Qimron, Bruce Tulloh, Joseph Massucci, Allison Booth, Annie Ernaux, Tom Bradley (author), Anne Kellas, Tevian Dray, William Dehning, Peter Bailey, Guy Sorman, Raja'a Alem, Thomas McCarthy (poet), Alan Moir, Elizabeth Peet McIntosh, Devyani Saltzman, Ferdinand Knobloch, Gerald Steinacher, Sam Stephenson (writer), Jane Robinson (historian), Nathan Runkle, John Bellamy Foster, Azila Talit Reisenberger, Alan Baxter (author), Allan Weisbecker, Owen Hatherley, Michael Coogan, Jamil Hasanli, Jean Valentine, Andrew Lam, George Athan Billias, Arash Hejazi, Scott Sandage, Rhyll McMaster, Miriam Gross, Martin A. Lee, Jeffrey St. Clair, Diego Mart%C3%ADnez Torr%C3%B3n, Alicja Gescinska, Lars Gustafsson,\n",
      "\n",
      "\n",
      "\n",
      "Cluster 9 names: Faith Soloway, Emily Osment, Mary Goldring, Bob Havens, Susan Christie, Geoffrey Bayldon, Eva Habermann, David Shaughnessy, Ramiro Torres, Lady Clover Honey, Tofusquirrel, Steven Marrs, Robbie Buck, Tony Mordente, Judith Jacob, Jeff Mauro, James Caan (entrepreneur), Keyshia Cole, Tom Noddy, Stephen Evans (actor), Alice Doria-Gamilla, Charles Lafortune, Jan Hopkins, Nagwa Fouad, Ray MacDonnell, Valerie Pitts, Greg Otterholt, C. D. Payne, Judith McConnell, Nathan Lyon (chef), Kevin Lygo, Paul Willson, John Deeks, Charlie Corwin, Ben Tankard, Elaine Princi, Mitzi McCall, Andrea Foulkes, Takayuki Hattori, Judy Carmichael, Sean McAdam (journalist), Efra%C3%ADn L%C3%B3pez Neris, Peter Flannery, Belinda Wollaston, Grant Nisbett, Oleg Brega, Klea Blackhurst, Rebecca Northan, Cogie Domingo, Noam Zylberman,\n",
      "\n",
      "\n",
      "\n"
     ]
    },
    {
     "name": "stderr",
     "output_type": "stream",
     "text": [
      "C:\\ProgramData\\Anaconda3\\lib\\site-packages\\ipykernel_launcher.py:10: DeprecationWarning: \n",
      ".ix is deprecated. Please use\n",
      ".loc for label based indexing or\n",
      ".iloc for positional indexing\n",
      "\n",
      "See the documentation here:\n",
      "http://pandas.pydata.org/pandas-docs/stable/indexing.html#deprecate_ix\n",
      "  # Remove the CWD from sys.path while we load stuff.\n"
     ]
    }
   ],
   "source": [
    "from __future__ import print_function\n",
    "\n",
    "print(\"Top terms per cluster:\")\n",
    "print()\n",
    "#sort cluster centers by proximity to centroid\n",
    "order_centroids = km.cluster_centers_.argsort()[:, ::-1] \n",
    "\n",
    "for i in range(n_clusters):\n",
    "    print(\"Cluster %d names:\" % (i+1), end='')\n",
    "    for title in frame.ix[i]['name'].values.tolist()[0:50]:\n",
    "        print(' %s,' % title, end='')\n",
    "    print() \n",
    "    print() \n",
    "    \n",
    "    print() \n",
    "    print() "
   ]
  },
  {
   "cell_type": "code",
   "execution_count": 64,
   "metadata": {},
   "outputs": [],
   "source": [
    "from sklearn.manifold import TSNE"
   ]
  },
  {
   "cell_type": "code",
   "execution_count": 71,
   "metadata": {},
   "outputs": [
    {
     "ename": "MemoryError",
     "evalue": "",
     "output_type": "error",
     "traceback": [
      "\u001b[1;31m---------------------------------------------------------------------------\u001b[0m",
      "\u001b[1;31mMemoryError\u001b[0m                               Traceback (most recent call last)",
      "\u001b[1;32m<ipython-input-71-7c73b0e20ba7>\u001b[0m in \u001b[0;36m<module>\u001b[1;34m()\u001b[0m\n\u001b[1;32m----> 1\u001b[1;33m \u001b[0mxx\u001b[0m \u001b[1;33m=\u001b[0m \u001b[0mTSNE\u001b[0m\u001b[1;33m(\u001b[0m\u001b[0mn_components\u001b[0m\u001b[1;33m=\u001b[0m\u001b[1;36m2\u001b[0m\u001b[1;33m)\u001b[0m\u001b[1;33m.\u001b[0m\u001b[0mfit_transform\u001b[0m\u001b[1;33m(\u001b[0m\u001b[0mtfidf_matrix\u001b[0m\u001b[1;33m.\u001b[0m\u001b[0mtoarray\u001b[0m\u001b[1;33m(\u001b[0m\u001b[1;33m)\u001b[0m\u001b[1;33m)\u001b[0m\u001b[1;33m\u001b[0m\u001b[0m\n\u001b[0m",
      "\u001b[1;32mC:\\ProgramData\\Anaconda3\\lib\\site-packages\\sklearn\\manifold\\t_sne.py\u001b[0m in \u001b[0;36mfit_transform\u001b[1;34m(self, X, y)\u001b[0m\n\u001b[0;32m    882\u001b[0m             \u001b[0mEmbedding\u001b[0m \u001b[0mof\u001b[0m \u001b[0mthe\u001b[0m \u001b[0mtraining\u001b[0m \u001b[0mdata\u001b[0m \u001b[1;32min\u001b[0m \u001b[0mlow\u001b[0m\u001b[1;33m-\u001b[0m\u001b[0mdimensional\u001b[0m \u001b[0mspace\u001b[0m\u001b[1;33m.\u001b[0m\u001b[1;33m\u001b[0m\u001b[0m\n\u001b[0;32m    883\u001b[0m         \"\"\"\n\u001b[1;32m--> 884\u001b[1;33m         \u001b[0membedding\u001b[0m \u001b[1;33m=\u001b[0m \u001b[0mself\u001b[0m\u001b[1;33m.\u001b[0m\u001b[0m_fit\u001b[0m\u001b[1;33m(\u001b[0m\u001b[0mX\u001b[0m\u001b[1;33m)\u001b[0m\u001b[1;33m\u001b[0m\u001b[0m\n\u001b[0m\u001b[0;32m    885\u001b[0m         \u001b[0mself\u001b[0m\u001b[1;33m.\u001b[0m\u001b[0membedding_\u001b[0m \u001b[1;33m=\u001b[0m \u001b[0membedding\u001b[0m\u001b[1;33m\u001b[0m\u001b[0m\n\u001b[0;32m    886\u001b[0m         \u001b[1;32mreturn\u001b[0m \u001b[0mself\u001b[0m\u001b[1;33m.\u001b[0m\u001b[0membedding_\u001b[0m\u001b[1;33m\u001b[0m\u001b[0m\n",
      "\u001b[1;32mC:\\ProgramData\\Anaconda3\\lib\\site-packages\\sklearn\\manifold\\t_sne.py\u001b[0m in \u001b[0;36m_fit\u001b[1;34m(self, X, skip_num_points)\u001b[0m\n\u001b[0;32m    728\u001b[0m             \u001b[1;32mif\u001b[0m \u001b[0mself\u001b[0m\u001b[1;33m.\u001b[0m\u001b[0mmetric\u001b[0m \u001b[1;33m==\u001b[0m \u001b[1;34m\"euclidean\"\u001b[0m\u001b[1;33m:\u001b[0m\u001b[1;33m\u001b[0m\u001b[0m\n\u001b[0;32m    729\u001b[0m                 distances = pairwise_distances(X, metric=self.metric,\n\u001b[1;32m--> 730\u001b[1;33m                                                squared=True)\n\u001b[0m\u001b[0;32m    731\u001b[0m             \u001b[1;32melse\u001b[0m\u001b[1;33m:\u001b[0m\u001b[1;33m\u001b[0m\u001b[0m\n\u001b[0;32m    732\u001b[0m                 \u001b[0mdistances\u001b[0m \u001b[1;33m=\u001b[0m \u001b[0mpairwise_distances\u001b[0m\u001b[1;33m(\u001b[0m\u001b[0mX\u001b[0m\u001b[1;33m,\u001b[0m \u001b[0mmetric\u001b[0m\u001b[1;33m=\u001b[0m\u001b[0mself\u001b[0m\u001b[1;33m.\u001b[0m\u001b[0mmetric\u001b[0m\u001b[1;33m)\u001b[0m\u001b[1;33m\u001b[0m\u001b[0m\n",
      "\u001b[1;32mC:\\ProgramData\\Anaconda3\\lib\\site-packages\\sklearn\\metrics\\pairwise.py\u001b[0m in \u001b[0;36mpairwise_distances\u001b[1;34m(X, Y, metric, n_jobs, **kwds)\u001b[0m\n\u001b[0;32m   1238\u001b[0m         \u001b[0mfunc\u001b[0m \u001b[1;33m=\u001b[0m \u001b[0mpartial\u001b[0m\u001b[1;33m(\u001b[0m\u001b[0mdistance\u001b[0m\u001b[1;33m.\u001b[0m\u001b[0mcdist\u001b[0m\u001b[1;33m,\u001b[0m \u001b[0mmetric\u001b[0m\u001b[1;33m=\u001b[0m\u001b[0mmetric\u001b[0m\u001b[1;33m,\u001b[0m \u001b[1;33m**\u001b[0m\u001b[0mkwds\u001b[0m\u001b[1;33m)\u001b[0m\u001b[1;33m\u001b[0m\u001b[0m\n\u001b[0;32m   1239\u001b[0m \u001b[1;33m\u001b[0m\u001b[0m\n\u001b[1;32m-> 1240\u001b[1;33m     \u001b[1;32mreturn\u001b[0m \u001b[0m_parallel_pairwise\u001b[0m\u001b[1;33m(\u001b[0m\u001b[0mX\u001b[0m\u001b[1;33m,\u001b[0m \u001b[0mY\u001b[0m\u001b[1;33m,\u001b[0m \u001b[0mfunc\u001b[0m\u001b[1;33m,\u001b[0m \u001b[0mn_jobs\u001b[0m\u001b[1;33m,\u001b[0m \u001b[1;33m**\u001b[0m\u001b[0mkwds\u001b[0m\u001b[1;33m)\u001b[0m\u001b[1;33m\u001b[0m\u001b[0m\n\u001b[0m\u001b[0;32m   1241\u001b[0m \u001b[1;33m\u001b[0m\u001b[0m\n\u001b[0;32m   1242\u001b[0m \u001b[1;33m\u001b[0m\u001b[0m\n",
      "\u001b[1;32mC:\\ProgramData\\Anaconda3\\lib\\site-packages\\sklearn\\metrics\\pairwise.py\u001b[0m in \u001b[0;36m_parallel_pairwise\u001b[1;34m(X, Y, func, n_jobs, **kwds)\u001b[0m\n\u001b[0;32m   1081\u001b[0m     \u001b[1;32mif\u001b[0m \u001b[0mn_jobs\u001b[0m \u001b[1;33m==\u001b[0m \u001b[1;36m1\u001b[0m\u001b[1;33m:\u001b[0m\u001b[1;33m\u001b[0m\u001b[0m\n\u001b[0;32m   1082\u001b[0m         \u001b[1;31m# Special case to avoid picklability checks in delayed\u001b[0m\u001b[1;33m\u001b[0m\u001b[1;33m\u001b[0m\u001b[0m\n\u001b[1;32m-> 1083\u001b[1;33m         \u001b[1;32mreturn\u001b[0m \u001b[0mfunc\u001b[0m\u001b[1;33m(\u001b[0m\u001b[0mX\u001b[0m\u001b[1;33m,\u001b[0m \u001b[0mY\u001b[0m\u001b[1;33m,\u001b[0m \u001b[1;33m**\u001b[0m\u001b[0mkwds\u001b[0m\u001b[1;33m)\u001b[0m\u001b[1;33m\u001b[0m\u001b[0m\n\u001b[0m\u001b[0;32m   1084\u001b[0m \u001b[1;33m\u001b[0m\u001b[0m\n\u001b[0;32m   1085\u001b[0m     \u001b[1;31m# TODO: in some cases, backend='threading' may be appropriate\u001b[0m\u001b[1;33m\u001b[0m\u001b[1;33m\u001b[0m\u001b[0m\n",
      "\u001b[1;32mC:\\ProgramData\\Anaconda3\\lib\\site-packages\\sklearn\\metrics\\pairwise.py\u001b[0m in \u001b[0;36meuclidean_distances\u001b[1;34m(X, Y, Y_norm_squared, squared, X_norm_squared)\u001b[0m\n\u001b[0;32m    243\u001b[0m         \u001b[0mYY\u001b[0m \u001b[1;33m=\u001b[0m \u001b[0mrow_norms\u001b[0m\u001b[1;33m(\u001b[0m\u001b[0mY\u001b[0m\u001b[1;33m,\u001b[0m \u001b[0msquared\u001b[0m\u001b[1;33m=\u001b[0m\u001b[1;32mTrue\u001b[0m\u001b[1;33m)\u001b[0m\u001b[1;33m[\u001b[0m\u001b[0mnp\u001b[0m\u001b[1;33m.\u001b[0m\u001b[0mnewaxis\u001b[0m\u001b[1;33m,\u001b[0m \u001b[1;33m:\u001b[0m\u001b[1;33m]\u001b[0m\u001b[1;33m\u001b[0m\u001b[0m\n\u001b[0;32m    244\u001b[0m \u001b[1;33m\u001b[0m\u001b[0m\n\u001b[1;32m--> 245\u001b[1;33m     \u001b[0mdistances\u001b[0m \u001b[1;33m=\u001b[0m \u001b[0msafe_sparse_dot\u001b[0m\u001b[1;33m(\u001b[0m\u001b[0mX\u001b[0m\u001b[1;33m,\u001b[0m \u001b[0mY\u001b[0m\u001b[1;33m.\u001b[0m\u001b[0mT\u001b[0m\u001b[1;33m,\u001b[0m \u001b[0mdense_output\u001b[0m\u001b[1;33m=\u001b[0m\u001b[1;32mTrue\u001b[0m\u001b[1;33m)\u001b[0m\u001b[1;33m\u001b[0m\u001b[0m\n\u001b[0m\u001b[0;32m    246\u001b[0m     \u001b[0mdistances\u001b[0m \u001b[1;33m*=\u001b[0m \u001b[1;33m-\u001b[0m\u001b[1;36m2\u001b[0m\u001b[1;33m\u001b[0m\u001b[0m\n\u001b[0;32m    247\u001b[0m     \u001b[0mdistances\u001b[0m \u001b[1;33m+=\u001b[0m \u001b[0mXX\u001b[0m\u001b[1;33m\u001b[0m\u001b[0m\n",
      "\u001b[1;32mC:\\ProgramData\\Anaconda3\\lib\\site-packages\\sklearn\\utils\\extmath.py\u001b[0m in \u001b[0;36msafe_sparse_dot\u001b[1;34m(a, b, dense_output)\u001b[0m\n\u001b[0;32m    187\u001b[0m         \u001b[1;32mreturn\u001b[0m \u001b[0mret\u001b[0m\u001b[1;33m\u001b[0m\u001b[0m\n\u001b[0;32m    188\u001b[0m     \u001b[1;32melse\u001b[0m\u001b[1;33m:\u001b[0m\u001b[1;33m\u001b[0m\u001b[0m\n\u001b[1;32m--> 189\u001b[1;33m         \u001b[1;32mreturn\u001b[0m \u001b[0mfast_dot\u001b[0m\u001b[1;33m(\u001b[0m\u001b[0ma\u001b[0m\u001b[1;33m,\u001b[0m \u001b[0mb\u001b[0m\u001b[1;33m)\u001b[0m\u001b[1;33m\u001b[0m\u001b[0m\n\u001b[0m\u001b[0;32m    190\u001b[0m \u001b[1;33m\u001b[0m\u001b[0m\n\u001b[0;32m    191\u001b[0m \u001b[1;33m\u001b[0m\u001b[0m\n",
      "\u001b[1;31mMemoryError\u001b[0m: "
     ]
    }
   ],
   "source": [
    "xx = TSNE(n_components=2).fit_transform(tfidf_matrix.toarray())"
   ]
  }
 ],
 "metadata": {
  "anaconda-cloud": {},
  "kernelspec": {
   "display_name": "Python 3",
   "language": "python",
   "name": "python3"
  },
  "language_info": {
   "codemirror_mode": {
    "name": "ipython",
    "version": 3
   },
   "file_extension": ".py",
   "mimetype": "text/x-python",
   "name": "python",
   "nbconvert_exporter": "python",
   "pygments_lexer": "ipython3",
   "version": "3.6.1"
  }
 },
 "nbformat": 4,
 "nbformat_minor": 1
}
